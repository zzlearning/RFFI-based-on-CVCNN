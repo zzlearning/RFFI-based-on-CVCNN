{
 "cells": [
  {
   "cell_type": "code",
   "execution_count": 5,
   "metadata": {},
   "outputs": [
    {
     "name": "stdout",
     "output_type": "stream",
     "text": [
      "[-0.00726341-0.00994903j -0.01113926-0.01617481j -0.00698874-0.02203436j\n",
      " -0.00332652-0.00824j     0.00308237-0.02182074j  0.01818903-0.0385754j\n",
      "  0.00286874+0.000824j    0.00885037+0.01242103j -0.01333659-0.02542192j\n",
      "  0.00912503-0.00396741j  0.0631428 +0.02414014j  0.00985748+0.02307199j\n",
      "  0.01977599+0.03048799j  0.00277718-0.00509659j -0.02349925-0.0126957j\n",
      "  0.02783288-0.00433363j -0.03625599-0.02609333j -0.04196295+0.01174963j\n",
      "  0.00091556+0.02090518j -0.02859584+0.0013123j ]\n"
     ]
    }
   ],
   "source": [
    "# numpy读取二进制文件\n",
    "\n",
    "import numpy as np\n",
    "\n",
    "data_path=r\"D:\\毕设-基于复数神经网络的射频信号识别\\数据集\\ORACLE\\neu_m044q5210\\KRI-16Devices-RawData\\2ft\\WiFi_air_X310_3123D7B_2ft_run1.sigmf-data\"\n",
    "\n",
    "f= open(data_path,'rb') \n",
    "f.seek(0)\n",
    "data=f.read(20*16)\n",
    "data=np.frombuffer(data,dtype=np.complex128,count=-1,offset=0)\n",
    "print(data)\n"
   ]
  },
  {
   "cell_type": "code",
   "execution_count": 9,
   "metadata": {},
   "outputs": [
    {
     "name": "stdout",
     "output_type": "stream",
     "text": [
      "tensor([1.+2.j, 2.+0.j, 3.+0.j], dtype=torch.complex128)\n"
     ]
    }
   ],
   "source": [
    "import torch\n",
    "a=torch.tensor([1+2j,2,3],dtype=torch.complex128)\n",
    "a.to('cuda')\n",
    "print(a)\n"
   ]
  },
  {
   "cell_type": "code",
   "execution_count": 10,
   "metadata": {},
   "outputs": [
    {
     "name": "stdout",
     "output_type": "stream",
     "text": [
      "tensor([1.+2.j, 2.+0.j, 3.+0.j], dtype=torch.complex128)\n"
     ]
    }
   ],
   "source": [
    "a.float()\n",
    "print(a)"
   ]
  }
 ],
 "metadata": {
  "kernelspec": {
   "display_name": "Python 3.10.8 ('torch')",
   "language": "python",
   "name": "python3"
  },
  "language_info": {
   "codemirror_mode": {
    "name": "ipython",
    "version": 3
   },
   "file_extension": ".py",
   "mimetype": "text/x-python",
   "name": "python",
   "nbconvert_exporter": "python",
   "pygments_lexer": "ipython3",
   "version": "3.10.8"
  },
  "orig_nbformat": 4,
  "vscode": {
   "interpreter": {
    "hash": "0f9c239108929989be0830ed9e558b83b99afb73ccfb2ecb3503912f2cf6e186"
   }
  }
 },
 "nbformat": 4,
 "nbformat_minor": 2
}
