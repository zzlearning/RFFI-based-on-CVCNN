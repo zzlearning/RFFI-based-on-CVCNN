{
 "cells": [
  {
   "cell_type": "code",
   "execution_count": 1,
   "metadata": {},
   "outputs": [
    {
     "name": "stdout",
     "output_type": "stream",
     "text": [
      "20006400\n"
     ]
    }
   ],
   "source": [
    "# numpy读取二进制文件\n",
    "\n",
    "import numpy as np\n",
    "\n",
    "data_path=r\"D:\\RFFI-based-on-CVCNN\\datasets\\ORACLE\\neu_m044q5210\\KRI-16Devices-RawData\\2ft\\WiFi_air_X310_3123D7D_2ft_run1.sigmf-data\"\n",
    "\n",
    "f= open(data_path,'rb') \n",
    "f.seek(0)\n",
    "data=f.read()\n",
    "data=np.frombuffer(data,dtype=np.complex128,count=-1,offset=0)\n",
    "print(len(data))\n"
   ]
  },
  {
   "cell_type": "code",
   "execution_count": 8,
   "metadata": {},
   "outputs": [],
   "source": [
    "import os\n",
    "data_path=r\"D:\\RFFI-based-on-CVCNN\\datasets\\ORACLE\\neu_m044q5210\\KRI-16Devices-RawData\\2ft\"\n",
    "classes=[]\n",
    "for file in os.listdir(data_path):\n",
    "    \n",
    "    # file name示例:WiFi_air_X310_3123D7B_2ft_run1.sigmf-data\n",
    "    extension=os.path.splitext(file)[1]\n",
    "    # print(extension)\n",
    "    file_class=os.path.splitext(file)[0].split('_')[3]\n",
    "    \n",
    "    if extension=='.sigmf-data':\n",
    "        if file_class not in classes:\n",
    "            classes.append(file_class)"
   ]
  },
  {
   "cell_type": "code",
   "execution_count": 19,
   "metadata": {},
   "outputs": [],
   "source": [
    "from sklearn.model_selection import train_test_split\n",
    "import numpy as np\n",
    "def TrainDataset(num):\n",
    "    x = np.load(f\"D:/RFFI-based-on-CVCNN/codes/FS-SEI/FS-SEI_4800/Dataset/X_train_{num}Class.npy\")\n",
    "    y = np.load(f\"D:/RFFI-based-on-CVCNN/codes/FS-SEI/FS-SEI_4800/Dataset/Y_train_{num}Class.npy\")\n",
    "    x=x[:,:,0]+x[:,:,1]*1j\n",
    "    x=x.astype(np.complex64)\n",
    "    x=np.expand_dims(x,axis=(1,3))\n",
    "    print(type(x[0,0,0,0]))\n",
    "    y = y.astype(np.uint8)# 8bit数0-255\n",
    "    X_train, X_val, Y_train, Y_val = train_test_split(x, y, test_size = 0.1, random_state= 30)\n",
    "    return X_train, X_val, Y_train, Y_val"
   ]
  },
  {
   "cell_type": "code",
   "execution_count": 20,
   "metadata": {},
   "outputs": [
    {
     "name": "stdout",
     "output_type": "stream",
     "text": [
      "<class 'numpy.complex64'>\n"
     ]
    }
   ],
   "source": [
    "X_train, X_val, Y_train, Y_val=TrainDataset(10)"
   ]
  },
  {
   "cell_type": "code",
   "execution_count": 4,
   "metadata": {},
   "outputs": [
    {
     "name": "stdout",
     "output_type": "stream",
     "text": [
      "<class 'numpy.complex64'>\n",
      "tensor([-5.1476e-05+4.1297e-06j, -4.2615e-05+5.8232e-06j, -3.3640e-05+8.2810e-06j,\n",
      "        -2.6752e-05+1.0537e-05j, -2.3304e-05+1.2073e-05j, -2.3640e-05+1.2904e-05j,\n",
      "        -2.7253e-05+1.3417e-05j, -3.3117e-05+1.4063e-05j, -4.0031e-05+1.5033e-05j,\n",
      "        -4.6858e-05+1.6063e-05j]) tensor([5, 4, 8, 5], dtype=torch.uint8)\n",
      "tensor([-6.3581e-05+6.4066e-05j, -7.1946e-05+5.1448e-05j,\n",
      "        -8.1688e-05+3.4275e-05j, -9.1580e-05+1.4346e-05j,\n",
      "        -9.9685e-05-5.7621e-06j, -1.0405e-04-2.3364e-05j,\n",
      "        -1.0343e-04-3.6449e-05j, -9.7749e-05-4.4286e-05j,\n",
      "        -8.8083e-05-4.7586e-05j, -7.6215e-05-4.8146e-05j]) tensor([9, 7, 8, 5], dtype=torch.uint8)\n",
      "tensor([-1.1414e-06-6.2476e-05j,  3.3214e-06-6.0120e-05j,\n",
      "         8.3174e-06-5.5408e-05j,  1.3659e-05-5.0050e-05j,\n",
      "         1.9156e-05-4.5617e-05j,  2.4383e-05-4.3100e-05j,\n",
      "         2.8593e-05-4.2759e-05j,  3.0876e-05-4.4285e-05j,\n",
      "         3.0534e-05-4.7132e-05j,  2.7482e-05-5.0821e-05j]) tensor([6, 5, 7, 4], dtype=torch.uint8)\n",
      "tensor([-5.2611e-05-4.4963e-05j, -4.6828e-05-3.9103e-05j,\n",
      "        -4.2857e-05-3.7143e-05j, -4.3172e-05-3.9945e-05j,\n",
      "        -4.8094e-05-4.6848e-05j, -5.5750e-05-5.6117e-05j,\n",
      "        -6.2953e-05-6.5656e-05j, -6.6607e-05-7.3720e-05j,\n",
      "        -6.5056e-05-7.9374e-05j, -5.8798e-05-8.2613e-05j]) tensor([8, 6, 3, 7], dtype=torch.uint8)\n",
      "tensor([-2.3039e-05-6.4792e-05j, -1.9710e-05-7.1815e-05j,\n",
      "        -1.3661e-05-7.7717e-05j, -6.9769e-06-8.3419e-05j,\n",
      "        -1.8264e-06-8.9615e-05j,  3.4239e-07-9.6344e-05j,\n",
      "        -6.9433e-07-1.0287e-04j, -3.9257e-06-1.0793e-04j,\n",
      "        -7.5689e-06-1.1032e-04j, -9.7986e-06-1.0947e-04j]) tensor([8, 2, 8, 7], dtype=torch.uint8)\n"
     ]
    }
   ],
   "source": [
    "import argparse\n",
    "import sys\n",
    "import os\n",
    "import importlib\n",
    "import shutil\n",
    "import time\n",
    "\n",
    "import torch\n",
    "import torch.nn as nn\n",
    "from dataset.RFFIDataset import RFFIDataset\n",
    "from torch.utils.data import DataLoader,Dataset\n",
    "from network.STCVCNN import STCVCNN\n",
    "from utils.strategy import step_lr, accuracy\n",
    "from utils.plot import draw_curve\n",
    "from utils.centerloss import CenterLoss\n",
    "from utils.hard_triplet_loss import HardTripletLoss\n",
    "from test import predict_unkonwn_sig\n",
    "\n",
    "from sklearn.model_selection import train_test_split\n",
    "import numpy as np\n",
    "\n",
    "device=torch.device(\"cuda\" if torch.cuda.is_available() else \"cpu\")\n",
    "\n",
    "def TrainDataset(num):\n",
    "    x = np.load(f\"D:/RFFI-based-on-CVCNN/codes/FS-SEI/FS-SEI_4800/Dataset/X_train_{num}Class.npy\")\n",
    "    y = np.load(f\"D:/RFFI-based-on-CVCNN/codes/FS-SEI/FS-SEI_4800/Dataset/Y_train_{num}Class.npy\")\n",
    "    x=x[:,:,0]+x[:,:,1]*1j\n",
    "    x=x.astype(np.complex64)\n",
    "    x=np.expand_dims(x,axis=(1,3))\n",
    "    # print(type(x[0,0,0,0]))\n",
    "    y = y.astype(np.uint8)# 8bit数0-255\n",
    "    X_train, X_val, Y_train, Y_val = train_test_split(x, y, test_size = 0.1, random_state= 30)\n",
    "    return X_train, X_val, Y_train, Y_val\n",
    "\n",
    "class FewShotDataset(Dataset):\n",
    "    def __init__(self,datas,labels):\n",
    "        self.datas=datas\n",
    "        self.labels=labels\n",
    "\n",
    "    def __getitem__(self, index):\n",
    "        data=self.datas[index]\n",
    "        label=self.labels[index]\n",
    "        return data ,label\n",
    "\n",
    "    def __len__(self):\n",
    "        return len(self.labels)\n",
    "X_train, X_val, Y_train, Y_val=TrainDataset(10)\n",
    "trainDataset=FewShotDataset(X_train,Y_train)\n",
    "\n",
    "train_loader=DataLoader( trainDataset,\n",
    "                            batch_size=4,\n",
    "                            num_workers=0,\n",
    "                            shuffle=True,\n",
    "                            drop_last=False,\n",
    "                            pin_memory=True\n",
    "                            )\n",
    "for (data,label),i in zip(train_loader,range(5)):\n",
    "        print(data[0,0,:10,0],label)"
   ]
  },
  {
   "cell_type": "code",
   "execution_count": 3,
   "metadata": {},
   "outputs": [
    {
     "name": "stdout",
     "output_type": "stream",
     "text": [
      "(1, 4800, 1)\n"
     ]
    }
   ],
   "source": [
    "print(trainDataset[0][0].shape)"
   ]
  },
  {
   "cell_type": "code",
   "execution_count": 3,
   "metadata": {},
   "outputs": [],
   "source": [
    "for (data,label),i in zip(train_loader,range(5)):\n",
    "    print(i)"
   ]
  },
  {
   "cell_type": "code",
   "execution_count": 4,
   "metadata": {},
   "outputs": [
    {
     "ename": "AssertionError",
     "evalue": "the  file's class is not matched with class list",
     "output_type": "error",
     "traceback": [
      "\u001b[1;31m---------------------------------------------------------------------------\u001b[0m",
      "\u001b[1;31mAssertionError\u001b[0m                            Traceback (most recent call last)",
      "Cell \u001b[1;32mIn [4], line 7\u001b[0m\n\u001b[0;32m      5\u001b[0m         \u001b[39mif\u001b[39;00m c \u001b[39min\u001b[39;00m file:\n\u001b[0;32m      6\u001b[0m                 file_class\u001b[39m=\u001b[39mc\n\u001b[1;32m----> 7\u001b[0m \u001b[39massert\u001b[39;00m file_class\u001b[39m!=\u001b[39m\u001b[39mNone\u001b[39;00m,\u001b[39m\"\u001b[39m\u001b[39mthe  file\u001b[39m\u001b[39m'\u001b[39m\u001b[39ms class is not matched with class list\u001b[39m\u001b[39m\"\u001b[39m\n\u001b[0;32m      8\u001b[0m \u001b[39mprint\u001b[39m(file_class)\n",
      "\u001b[1;31mAssertionError\u001b[0m: the  file's class is not matched with class list"
     ]
    }
   ],
   "source": [
    "file='WiFi_air_X330_3123D7B_2ft_run1.sigmf-data'\n",
    "classes=['X310','X320']\n",
    "file_class=None\n",
    "for c in classes:\n",
    "        if c in file:\n",
    "                file_class=c\n",
    "assert file_class!=None,\"the  file's class is not matched with class list\"\n",
    "print(file_class)"
   ]
  }
 ],
 "metadata": {
  "kernelspec": {
   "display_name": "Python 3.10.8 ('torch')",
   "language": "python",
   "name": "python3"
  },
  "language_info": {
   "codemirror_mode": {
    "name": "ipython",
    "version": 3
   },
   "file_extension": ".py",
   "mimetype": "text/x-python",
   "name": "python",
   "nbconvert_exporter": "python",
   "pygments_lexer": "ipython3",
   "version": "3.10.8"
  },
  "orig_nbformat": 4,
  "vscode": {
   "interpreter": {
    "hash": "0f9c239108929989be0830ed9e558b83b99afb73ccfb2ecb3503912f2cf6e186"
   }
  }
 },
 "nbformat": 4,
 "nbformat_minor": 2
}
